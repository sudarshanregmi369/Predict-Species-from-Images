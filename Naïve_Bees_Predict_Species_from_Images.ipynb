{
  "nbformat": 4,
  "nbformat_minor": 0,
  "metadata": {
    "colab": {
      "provenance": [],
      "authorship_tag": "ABX9TyO/DEx3S/TXSDs5ADMyaFvt",
      "include_colab_link": true
    },
    "kernelspec": {
      "name": "python3",
      "display_name": "Python 3"
    },
    "language_info": {
      "name": "python"
    }
  },
  "cells": [
    {
      "cell_type": "markdown",
      "metadata": {
        "id": "view-in-github",
        "colab_type": "text"
      },
      "source": [
        "<a href=\"https://colab.research.google.com/github/sudarshanregmi369/Predict-Species-from-Images/blob/main/Na%C3%AFve_Bees_Predict_Species_from_Images.ipynb\" target=\"_parent\"><img src=\"https://colab.research.google.com/assets/colab-badge.svg\" alt=\"Open In Colab\"/></a>"
      ]
    },
    {
      "cell_type": "code",
      "execution_count": 2,
      "metadata": {
        "id": "wqpuqNqGwM6c"
      },
      "outputs": [],
      "source": [
        "import tensorflow as tf\n",
        "import numpy as np\n",
        "import matplotlib.pyplot as plt\n",
        "\n",
        "import pandas as pd"
      ]
    },
    {
      "cell_type": "code",
      "source": [
        "labels= pd.read_csv(\"labels.csv\")\n",
        "print(\"file read\",read_file)\n",
        "# we are taking is_bee or is_wasp from the labels so\n",
        "labels = labels[labels[\"photo quality \"]==1] # to show the we are working 100% on image\n",
        "\n",
        "# we need to fetch the only is_bee and is_wasp from our dataset\n",
        "\n"
      ],
      "metadata": {
        "id": "cSCOxRFNkXb6",
        "colab": {
          "base_uri": "https://localhost:8080/"
        },
        "outputId": "4f1bb5bf-4c7b-44cf-f076-ea650fecc65c"
      },
      "execution_count": 4,
      "outputs": [
        {
          "output_type": "stream",
          "name": "stdout",
          "text": [
            "file read           id                                        path  is_bee  is_wasp  \\\n",
            "0          1           bee1\\10007154554_026417cfd0_n.jpg       1        0   \n",
            "1          2           bee1\\10024864894_6dc54d4b34_n.jpg       1        0   \n",
            "2          3           bee1\\10092043833_7306dfd1f0_n.jpg       1        0   \n",
            "3          4            bee1\\1011948979_fc3637e779_w.jpg       1        0   \n",
            "4          5           bee1\\10128235063_dca17db76c_n.jpg       1        0   \n",
            "...      ...                                         ...     ...      ...   \n",
            "11416  11417                   other_noinsect\\581704.jpg       0        0   \n",
            "11417  11418                   other_noinsect\\581873.jpg       0        0   \n",
            "11418  11419                   other_noinsect\\581880.jpg       0        0   \n",
            "11419  11420  other_noinsect\\6778651038_294d392627_n.jpg       0        0   \n",
            "11420  11421  other_noinsect\\9695883931_d5efb955d2_m.jpg       0        0   \n",
            "\n",
            "       is_otherinsect  is_other  photo_quality  is_validation  \\\n",
            "0                   0         0              1              0   \n",
            "1                   0         0              1              0   \n",
            "2                   0         0              1              1   \n",
            "3                   0         0              1              0   \n",
            "4                   0         0              1              0   \n",
            "...               ...       ...            ...            ...   \n",
            "11416               0         1              0              0   \n",
            "11417               0         1              0              0   \n",
            "11418               0         1              0              1   \n",
            "11419               0         1              0              0   \n",
            "11420               0         1              0              0   \n",
            "\n",
            "       is_final_validation  label  \n",
            "0                        0    bee  \n",
            "1                        1    bee  \n",
            "2                        0    bee  \n",
            "3                        1    bee  \n",
            "4                        0    bee  \n",
            "...                    ...    ...  \n",
            "11416                    1  other  \n",
            "11417                    1  other  \n",
            "11418                    0  other  \n",
            "11419                    1  other  \n",
            "11420                    0  other  \n",
            "\n",
            "[11421 rows x 10 columns]\n"
          ]
        }
      ]
    }
  ]
}